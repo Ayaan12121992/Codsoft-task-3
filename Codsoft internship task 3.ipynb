{
 "cells": [
  {
   "cell_type": "code",
   "execution_count": 1,
   "id": "54b057b6",
   "metadata": {},
   "outputs": [],
   "source": [
    "# Importing Libraries\n",
    "import numpy as np\n",
    "import pandas as pd\n",
    "import sklearn\n",
    "import matplotlib.pyplot as plt\n",
    "import seaborn as sns\n",
    "import warnings\n",
    "warnings.simplefilter(action='ignore', category=FutureWarning)\n"
   ]
  },
  {
   "cell_type": "code",
   "execution_count": 12,
   "id": "bf2f297e",
   "metadata": {
    "scrolled": true
   },
   "outputs": [
    {
     "name": "stdout",
     "output_type": "stream",
     "text": [
      "Recommendations for User 1: [2, 0, 5, 3]\n"
     ]
    }
   ],
   "source": [
    "import numpy as np\n",
    "from sklearn.metrics.pairwise import cosine_similarity\n",
    "\n",
    "# Sample User-Item Preferences (Matrix)\n",
    "user_item_matrix = np.array([\n",
    "    [5, 0, 4, 4, 0, 0],\n",
    "    [0, 4, 0, 0, 5, 0],\n",
    "    [4, 0, 5, 0, 4, 0],\n",
    "    [0, 2, 0, 4, 0, 5],\n",
    "])\n",
    "\n",
    "# Function to calculate cosine similarity\n",
    "def calculate_similarity(matrix):\n",
    "    similarity_matrix = cosine_similarity(matrix, matrix)\n",
    "    return similarity_matrix\n",
    "\n",
    "# Function to generate recommendations\n",
    "def get_recommendations(user_item_matrix, user_id, similarity_matrix):\n",
    "    # Identify items not rated by the user\n",
    "    unrated_items = np.where(user_item_matrix[user_id] == 0)[0]\n",
    "\n",
    "    # Calculate predicted ratings based on user-item similarity\n",
    "    predicted_ratings = np.dot(similarity_matrix[user_id], user_item_matrix) / np.sum(np.abs(similarity_matrix[user_id]))\n",
    "\n",
    "    # Filter out already rated items\n",
    "    predicted_ratings[user_item_matrix[user_id] != 0] = -1\n",
    "\n",
    "    # Get indices of top recommended items\n",
    "    recommended_item_indices = np.argsort(predicted_ratings)[::-1]\n",
    "\n",
    "    # Filter recommended items that are not rated by the user\n",
    "    final_recommendations = [item for item in recommended_item_indices if item in unrated_items][:5]\n",
    "\n",
    "    return final_recommendations\n",
    "\n",
    "# Calculate similarity matrix\n",
    "user_similarity_matrix = calculate_similarity(user_item_matrix)\n",
    "\n",
    "# Example: Get recommendations for User 1\n",
    "user_id_to_recommend = 1\n",
    "recommendations = get_recommendations(user_item_matrix, user_id_to_recommend, user_similarity_matrix)\n",
    "\n",
    "print(f\"Recommendations for User {user_id_to_recommend}: {recommendations}\")\n"
   ]
  }
 ],
 "metadata": {
  "kernelspec": {
   "display_name": "Python 3 (ipykernel)",
   "language": "python",
   "name": "python3"
  },
  "language_info": {
   "codemirror_mode": {
    "name": "ipython",
    "version": 3
   },
   "file_extension": ".py",
   "mimetype": "text/x-python",
   "name": "python",
   "nbconvert_exporter": "python",
   "pygments_lexer": "ipython3",
   "version": "3.9.13"
  }
 },
 "nbformat": 4,
 "nbformat_minor": 5
}
